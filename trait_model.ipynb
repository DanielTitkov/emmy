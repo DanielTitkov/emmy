{
 "cells": [
  {
   "cell_type": "code",
   "execution_count": 293,
   "metadata": {},
   "outputs": [],
   "source": [
    "import sqlite3\n",
    "from tqdm import tqdm\n",
    "import pandas as pd\n",
    "import numpy as np\n",
    "\n",
    "import matplotlib.pyplot as plt\n",
    "\n",
    "from tqdm import tqdm\n",
    "from nltk.tokenize import word_tokenize\n",
    "from sklearn.feature_extraction.text import TfidfVectorizer, CountVectorizer\n",
    "from sklearn.metrics import accuracy_score, classification_report\n",
    "from sklearn.model_selection import train_test_split\n",
    "from sklearn.linear_model import LinearRegression\n",
    "from sklearn.metrics import mean_absolute_error\n",
    "from sklearn.metrics import r2_score\n",
    "\n",
    "%matplotlib inline\n",
    "from jupyterthemes import jtplot\n",
    "jtplot.style(theme='onedork')"
   ]
  },
  {
   "cell_type": "markdown",
   "metadata": {},
   "source": [
    "## Model 1 - Texts as they are"
   ]
  },
  {
   "cell_type": "code",
   "execution_count": 294,
   "metadata": {},
   "outputs": [
    {
     "data": {
      "text/plain": [
       "(152, 8)"
      ]
     },
     "execution_count": 294,
     "metadata": {},
     "output_type": "execute_result"
    }
   ],
   "source": [
    "#load psychological data\n",
    "cols = ['id', 'sex', 'HEX1_eX', 'HEX2_A', 'HEX3_C', 'HEX4_E', 'HEX5_O', 'HEX6_H']\n",
    "traits = pd.read_csv('data/survey_data.csv', sep=';', decimal=',', usecols=cols)\n",
    "traits.shape"
   ]
  },
  {
   "cell_type": "code",
   "execution_count": 295,
   "metadata": {},
   "outputs": [
    {
     "data": {
      "text/plain": [
       "(38375, 2)"
      ]
     },
     "execution_count": 295,
     "metadata": {},
     "output_type": "execute_result"
    }
   ],
   "source": [
    "#get text data from db\n",
    "conn = sqlite3.connect('ud.db')\n",
    "c = conn.cursor()\n",
    "c.execute('SELECT DISTINCT owner_id, text FROM posts WHERE text IS NOT NULL AND text != \"\";')\n",
    "texts = pd.DataFrame.from_records(c.fetchall())\n",
    "texts.columns = ['id', 'text']\n",
    "c.close()\n",
    "conn.close()\n",
    "texts.shape"
   ]
  },
  {
   "cell_type": "code",
   "execution_count": null,
   "metadata": {},
   "outputs": [],
   "source": []
  },
  {
   "cell_type": "code",
   "execution_count": null,
   "metadata": {},
   "outputs": [],
   "source": []
  },
  {
   "cell_type": "markdown",
   "metadata": {},
   "source": [
    "Filter out short texts"
   ]
  },
  {
   "cell_type": "code",
   "execution_count": 301,
   "metadata": {},
   "outputs": [
    {
     "name": "stdout",
     "output_type": "stream",
     "text": [
      "Mean: 365.70241973 \n",
      "Median: 325.0 \n",
      "Min: 201 \n",
      "Max: 699\n"
     ]
    },
    {
     "data": {
      "image/png": "[encoded data removed]",
      "text/plain": [
       "<matplotlib.figure.Figure at 0x1aeb2d79710>"
      ]
     },
     "metadata": {},
     "output_type": "display_data"
    }
   ],
   "source": [
    "lens = np.array([len(str(t)) for t in texts.text])\n",
    "print('Mean:', lens.mean(),\n",
    "      '\\nMedian:', np.median(lens), '\\nMin:', min(lens), '\\nMax:', max(lens))\n",
    "plt.hist(lens, bins=100);"
   ]
  },
  {
   "cell_type": "code",
   "execution_count": 298,
   "metadata": {},
   "outputs": [
    {
     "name": "stdout",
     "output_type": "stream",
     "text": [
      "94.32% постов короче 700 б.\n",
      "16.88% постов длиннее 200 б.\n"
     ]
    }
   ],
   "source": [
    "trsh_up = 700\n",
    "print('{:.2f}% постов короче {} б.'.format(lens[lens<trsh_up].shape[0]/lens.shape[0]*100, trsh_up))\n",
    "trsh_lo = 200\n",
    "print('{:.2f}% постов длиннее {} б.'.format(lens[lens>trsh_lo].shape[0]/lens.shape[0]*100, trsh_lo))"
   ]
  },
  {
   "cell_type": "code",
   "execution_count": 299,
   "metadata": {},
   "outputs": [
    {
     "data": {
      "text/plain": [
       "(4298, 2)"
      ]
     },
     "execution_count": 299,
     "metadata": {},
     "output_type": "execute_result"
    }
   ],
   "source": [
    "lens = np.array([len(str(t)) for t in texts.text])\n",
    "texts = texts[(lens < trsh_up) & (lens > trsh_lo)]\n",
    "texts.shape"
   ]
  },
  {
   "cell_type": "code",
   "execution_count": 300,
   "metadata": {},
   "outputs": [
    {
     "data": {
      "text/plain": [
       "(4532, 9)"
      ]
     },
     "execution_count": 300,
     "metadata": {},
     "output_type": "execute_result"
    }
   ],
   "source": [
    "#join data\n",
    "data = pd.merge(texts, traits, how='left', left_on='id', right_on='id')\n",
    "data.shape"
   ]
  },
  {
   "cell_type": "code",
   "execution_count": 285,
   "metadata": {},
   "outputs": [],
   "source": [
    "data.text = data.text.str.lower()"
   ]
  },
  {
   "cell_type": "code",
   "execution_count": 302,
   "metadata": {},
   "outputs": [
    {
     "data": {
      "image/png": "[encoded data removed]",
      "text/plain": [
       "<matplotlib.figure.Figure at 0x1aea1be5710>"
      ]
     },
     "metadata": {},
     "output_type": "display_data"
    }
   ],
   "source": [
    "data.groupby('id').text.count().hist();"
   ]
  },
  {
   "cell_type": "code",
   "execution_count": 303,
   "metadata": {},
   "outputs": [],
   "source": [
    "def mape(y_true, y_pred): \n",
    "    y_true, y_pred = np.array(y_true), np.array(y_pred)\n",
    "    return np.mean(np.abs((y_true - y_pred) / y_true)) * 100\n",
    "\n",
    "def build_model(data, X, y, vectorizer, model):\n",
    "    print('\\nBUILDING MODEL FOR {}'.format(y))\n",
    "    \n",
    "    X_train, X_test, y_train, y_test = train_test_split(data[X], data[y], test_size=0.2)\n",
    "    \n",
    "    print('Train sample: {}\\nTest sample: {}'.format(len(X_train), len(X_test)))\n",
    "    \n",
    "    print('\\n...running vectorizer...\\n')\n",
    "    \n",
    "    train_vec = vectorizer.fit_transform(X_train)\n",
    "    test_vec = vectorizer.transform(X_test)\n",
    "     \n",
    "    print('Included tokens ({})'.format(train_vec.shape[1]))\n",
    "    print(np.array(vectorizer.get_feature_names())[np.random.randint(0, len(vectorizer.get_feature_names()), 20)])\n",
    "    print('\\nExcluded tokens ({})'.format(len(vectorizer.stop_words_)))\n",
    "    print(np.array(list(vectorizer.stop_words_))[np.random.randint(0, len(vectorizer.stop_words_), 20)])\n",
    "    \n",
    "    print('\\n...fitting model...')\n",
    "    model.fit(train_vec, y_train)\n",
    "    \n",
    "    y_train_pred = model.predict(train_vec)\n",
    "    print('\\nMAPE on training sample: {:.2f}%'.format(mape(y_train, y_train_pred)))\n",
    "    print('R2 on training sample: {:.3f}'.format(r2_score(y_train, y_train_pred)))\n",
    "\n",
    "    y_test_pred = model.predict(test_vec)\n",
    "    print('\\nMAPE on test sample: {:.2f}%'.format(mape(y_test, y_test_pred)))\n",
    "    print('R2 on training sample: {:.3f}'.format(r2_score(y_test, y_test_pred)))\n",
    "    \n",
    "    print('High pole')\n",
    "    [print(a) for a in sorted(list(zip(model.coef_, vectorizer.get_feature_names())), reverse=True)[0:10]]\n",
    "    print('\\nLow pole')\n",
    "    [print(a) for a in sorted(list(zip(model.coef_, vectorizer.get_feature_names())))[0:10]]"
   ]
  },
  {
   "cell_type": "code",
   "execution_count": 304,
   "metadata": {},
   "outputs": [],
   "source": [
    "vectorizer = TfidfVectorizer(ngram_range=(1, 2), \n",
    "                         analyzer='word', \n",
    "                         tokenizer=word_tokenize, \n",
    "                         min_df = 50, \n",
    "                         max_df = 0.8, \n",
    "                         max_features = 5000)"
   ]
  },
  {
   "cell_type": "code",
   "execution_count": 305,
   "metadata": {},
   "outputs": [],
   "source": [
    "lm = LinearRegression()"
   ]
  },
  {
   "cell_type": "code",
   "execution_count": 306,
   "metadata": {},
   "outputs": [
    {
     "name": "stdout",
     "output_type": "stream",
     "text": [
      "\n",
      "BUILDING MODEL FOR HEX1_eX\n",
      "Train sample: 3625\n",
      "Test sample: 907\n",
      "\n",
      "...running vectorizer...\n",
      "\n",
      "Included tokens (509)\n",
      "['слова' 'своих' 'совершенно' 'вопрос' 'но' 'которых' ') и' 'есть' 'лет'\n",
      " ') ,' 'слишком' 'всё' 'здесь' 'такие' 'совсем' 'руки' 'кажется ,'\n",
      " 'если вы' 'моей' 'of']\n",
      "\n",
      "Excluded tokens (193233)\n",
      "['несопоставимые ни' 'и ваших' 'нужно ничего' 'пятницу я' 'банно-прачечный'\n",
      " 'паркету стук' 'понятия четче' 'рождается тот' ', край' 'преференции в'\n",
      " 'везувия !' 'светились близлежащие' 'игнорировать .' 'пропозициональные'\n",
      " 'документе или' 'изобретения »' 'требованию ,' 'изюма из' 'алгоритм'\n",
      " '( энмеркар']\n",
      "\n",
      "...fitting model...\n",
      "\n",
      "MAPE on training sample: 15.27%\n",
      "R2 on training sample: 0.413\n",
      "\n",
      "MAPE on test sample: 17.41%\n",
      "R2 on training sample: 0.187\n",
      "High pole\n",
      "(48.40559661303584, '©')\n",
      "(41.653026200894331, '» (')\n",
      "(36.362069446939664, '«')\n",
      "(25.810479311519273, '. «')\n",
      "(23.969311633038551, '. ©')\n",
      "(20.979967805803685, 'того ,')\n",
      "(19.350064119850877, '. (')\n",
      "(18.347398591205021, 'любви')\n",
      "(18.258673324573667, 'мире')\n",
      "(17.531009519527203, 'в жизни')\n",
      "\n",
      "Low pole\n",
      "(-37.520240727806325, '»')\n",
      "(-28.697601417911081, 'с )')\n",
      "(-22.485576484926202, 'тем ,')\n",
      "(-22.131313794360757, 'которая')\n",
      "(-20.636734327519751, 'который')\n",
      "(-20.587185127184796, ', конечно')\n",
      "(-18.862630790016123, 'этом')\n",
      "(-16.715861392391819, 'так что')\n",
      "(-16.628235592364291, 'если')\n",
      "(-16.514154539958195, 'пожалуйста')\n",
      "\n",
      "BUILDING MODEL FOR HEX2_A\n",
      "Train sample: 3625\n",
      "Test sample: 907\n",
      "\n",
      "...running vectorizer...\n",
      "\n",
      "Included tokens (503)\n",
      "['5' '. http' 'почти' 'могут' ', которая' 'весь' 'ли' 'под' 'моей' 'у вас'\n",
      " 'нельзя' 'говорит' '4' 'три' 'во' 'что в' 'глаза' '! !' 'эта' 'i']\n",
      "\n",
      "Excluded tokens (192834)\n",
      "['death in' 'оповещение [' 'строчки ``' 'возвращать иных' 'йолли .'\n",
      " 'день проходил' 'как их' '//booknik.ru/colonnade/ljudi/intentions/'\n",
      " '- рекомендую' 'надо говорить' 'гигантская' 'чем плюс' 'была объектом'\n",
      " '45 лет' '. идеи' 'жилье человечье' 'икроу/ #' 'очень многим'\n",
      " 'тебе сегодня' 'в крайнем']\n",
      "\n",
      "...fitting model...\n",
      "\n",
      "MAPE on training sample: 15.24%\n",
      "R2 on training sample: 0.349\n",
      "\n",
      "MAPE on test sample: 19.37%\n",
      "R2 on training sample: 0.107\n",
      "High pole\n",
      "(23.443028644074172, '» (')\n",
      "(20.273933190282449, 'кстати')\n",
      "(16.716196930161974, 'мной')\n",
      "(15.94324822501399, '. ©')\n",
      "(15.443287622552402, 'жизнь')\n",
      "(14.830202547390833, ', а')\n",
      "(14.589617643558977, 'конечно')\n",
      "(14.52233023431849, 'всего')\n",
      "(14.309100098530067, 'мне ,')\n",
      "(13.859238038093256, 'те')\n",
      "\n",
      "Low pole\n",
      "(-21.797779044279668, 'кажется ,')\n",
      "(-20.031620997122015, ', конечно')\n",
      "(-18.126429638231645, 'сильно')\n",
      "(-17.162827676731133, '( с')\n",
      "(-17.091458402236412, ', пожалуйста')\n",
      "(-16.180582830599089, 'вообще')\n",
      "(-15.016298372312958, 'а')\n",
      "(-14.513842917745359, 'которой')\n",
      "(-14.486588909745542, 'когда я')\n",
      "(-14.233826935838753, 'могут')\n",
      "\n",
      "BUILDING MODEL FOR HEX3_C\n",
      "Train sample: 3625\n",
      "Test sample: 907\n",
      "\n",
      "...running vectorizer...\n",
      "\n",
      "Included tokens (508)\n",
      "['всех' ', который' 'знаю ,' 'люди ,' 'нет' 'так' 'были' 'пока' 'работы'\n",
      " 'них' 'с )' 'об' 'руки' 'всю' ', вы' 'что ,' 'если бы' 'такого' ', к'\n",
      " 'тоже']\n",
      "\n",
      "Excluded tokens (192787)\n",
      "['за инициативу' 'унизительной' '– ничего' 'яхты мало' 'llpf' 'неуемная'\n",
      " 'сообщаем' 'откуда-то сверху' 'скинул' 'верней' 'так непросто'\n",
      " 'некомпетентными любителями' 'г. кострома' 'монитору по' 'наверняка он'\n",
      " 'вконтакт' 'о бытовой' 'герою такого' 'лист шуршит' 'на автомате']\n",
      "\n",
      "...fitting model...\n",
      "\n",
      "MAPE on training sample: 17.60%\n",
      "R2 on training sample: 0.289\n",
      "\n",
      "MAPE on test sample: 21.06%\n",
      "R2 on training sample: 0.077\n",
      "High pole\n",
      "(46.978857717368797, 'p.s .')\n",
      "(36.682604367368924, '«')\n",
      "(36.392295486572337, 'кстати')\n",
      "(30.236778820942686, 'в том')\n",
      "(28.385166860846685, 'конечно')\n",
      "(23.106994792955934, 'я ,')\n",
      "(19.582369781346472, 'никто не')\n",
      "(18.74994415697666, '©')\n",
      "(18.059590670395778, 'тех ,')\n",
      "(17.847709507303655, 'нравится')\n",
      "\n",
      "Low pole\n",
      "(-40.884003393493884, '»')\n",
      "(-31.810066814525264, 'p.s')\n",
      "(-27.753360810007763, 'конечно ,')\n",
      "(-27.275758873906732, 'том')\n",
      "(-24.457119950477008, 'кстати ,')\n",
      "(-19.113278584089439, 'не могу')\n",
      "(-18.424056213788614, 'да')\n",
      "(-17.691832355742594, 'которая')\n",
      "(-16.426492494005416, 'не знаю')\n",
      "(-15.907417050767961, '! )')\n",
      "\n",
      "BUILDING MODEL FOR HEX4_E\n",
      "Train sample: 3625\n",
      "Test sample: 907\n",
      "\n",
      "...running vectorizer...\n",
      "\n",
      "Included tokens (519)\n",
      "['такие' ':' 'у' 'по' '%' 'какие' ': ``' 'жизнь' 'о том' 'моя' 'думаю'\n",
      " ', с' 'раз' 'именно' 'новый' 'людей' 'собой' 'так ,' 'кого' 'только']\n",
      "\n",
      "Excluded tokens (193146)\n",
      "['управляем' 'единственное отличие' 'качество хорошее' 'итоге примерно'\n",
      " 'дома для' 'в вешней' '- эмоционально-образно' 'ах да' 'положение не'\n",
      " 'под звездой' 'oсень #' 'доступны следующие' 'но абсолютно' 'кибернетика'\n",
      " 'оставленные в' 'пребывала' '. цифры' 'знают нас' '6 цветов' 'сирени']\n",
      "\n",
      "...fitting model...\n",
      "\n",
      "MAPE on training sample: 15.33%\n",
      "R2 on training sample: 0.295\n",
      "\n",
      "MAPE on test sample: 17.18%\n",
      "R2 on training sample: 0.037\n",
      "High pole\n",
      "(70.503892629955956, 'с )')\n",
      "(41.636489662913782, 'p.s')\n",
      "(33.87218948751093, ', пожалуйста')\n",
      "(23.123373419880934, 'которые')\n",
      "(21.548405980489836, 'какие')\n",
      "(21.257535493480447, 'прямо')\n",
      "(20.086086958519154, ', вы')\n",
      "(18.577336842086222, 'пор')\n",
      "(18.122175549721213, '=')\n",
      "(17.982675667304726, 'хотя бы')\n",
      "\n",
      "Low pole\n",
      "(-45.311076636257226, 'p.s .')\n",
      "(-44.038801154604677, '( с')\n",
      "(-23.188525286743577, 'кстати ,')\n",
      "(-21.494982673749988, '[')\n",
      "(-20.690531819007273, 'том ,')\n",
      "(-20.420413914871006, 'пожалуйста')\n",
      "(-19.625246134490599, 'был')\n",
      "(-19.432329093931056, ', которые')\n",
      "(-17.366342157206656, 'тогда')\n",
      "(-16.956762737773406, '©')\n",
      "\n",
      "BUILDING MODEL FOR HEX5_O\n",
      "Train sample: 3625\n",
      "Test sample: 907\n",
      "\n",
      "...running vectorizer...\n",
      "\n",
      "Included tokens (510)\n",
      "['мои' 'два' 'делать' 'году' 'тебя' ', так' 'от' 'в' 'кто-то' '10' 'за'\n",
      " 'ведь' 'всё' 'ему' '. он' 'один' ', у' 'писать' 'что' 'здесь']\n",
      "\n",
      "Excluded tokens (192084)\n",
      "['пустеет' 'кино не' 'intuition' 'отношение .' 'достойна .' 'тяжкие'\n",
      " ', рекомендованный' 'тройкой' 'одна меня' 'и значком' 'рычит :' 'убегая ,'\n",
      " 'веста -' 'руки -' 'партнеров брачных' 'табличные' 'лето .'\n",
      " 'тебя обеспечу' 'иногда человеку' 'подписывались']\n",
      "\n",
      "...fitting model...\n",
      "\n",
      "MAPE on training sample: 15.49%\n",
      "R2 on training sample: 0.263\n",
      "\n",
      "MAPE on test sample: 17.27%\n",
      "R2 on training sample: -0.014\n",
      "High pole\n",
      "(74.592578142680296, 'p.s')\n",
      "(35.009737603642883, 'которая')\n",
      "(25.297111949792942, ', где')\n",
      "(23.886971992068148, '- я')\n",
      "(23.151031796854859, 'никто не')\n",
      "(21.505878364183765, '... .')\n",
      "(20.352331998117382, 'в жизни')\n",
      "(20.209204404497449, 'в этом')\n",
      "(19.308316161743786, 'те')\n",
      "(19.0252736568609, 'думаю')\n",
      "\n",
      "Low pole\n",
      "(-85.321512619472259, 'p.s .')\n",
      "(-38.558314593974615, ', которая')\n",
      "(-22.906759866307993, 'том ,')\n",
      "(-22.465424319735874, 'что у')\n",
      "(-19.700438413250932, 'если')\n",
      "(-19.003148663912363, 'чтобы')\n",
      "(-18.01621671291916, 'думаю ,')\n",
      "(-17.949138040656607, 'такой')\n",
      "(-17.781154315061379, ', но')\n",
      "(-17.65301715821311, 'например')\n",
      "\n",
      "BUILDING MODEL FOR HEX6_H\n",
      "Train sample: 3625\n",
      "Test sample: 907\n",
      "\n",
      "...running vectorizer...\n",
      "\n",
      "Included tokens (507)\n",
      "['https' 'тем' '! )' 'нам' 'так' 'действительно' 'совершенно' 'прямо' 'дня'\n",
      " \"'' ,\" ', это' '. и' 'мне' 'равно' 'так' 'всех' 'да ,' 'жить' 'себя'\n",
      " 'спасибо']\n",
      "\n",
      "Excluded tokens (193194)\n",
      "['радостью ,' 'нагружая себя' 'жизни было' '% zucker' 'достал'\n",
      " 'и путешествия' 'народонаселение этого' 'на ходатайство' 'неограниченной'\n",
      " 'сады' 'выехали из' 'по-новому :' 'я жила' 'смириться' 'разным'\n",
      " 'вернусь -надо' 'умм' 'the tip' 'классика наша' 'пол-пути']\n",
      "\n",
      "...fitting model...\n",
      "\n",
      "MAPE on training sample: 16.85%\n",
      "R2 on training sample: 0.298\n",
      "\n",
      "MAPE on test sample: 19.66%\n",
      "R2 on training sample: 0.039\n",
      "High pole\n",
      "(75.657508135203642, 'p.s')\n",
      "(23.281432849050933, 'тех ,')\n",
      "(21.700321397654097, ': )')\n",
      "(18.629945809902026, 'друзья')\n",
      "(16.513836612740842, 'конечно')\n",
      "(16.078729789916757, '. ©')\n",
      "(15.813765384143879, '«')\n",
      "(15.447808954714109, 'в этом')\n",
      "(14.392096528434081, 'может')\n",
      "(14.23394803026353, 'другой')\n",
      "\n",
      "Low pole\n",
      "(-72.509951217697648, 'p.s .')\n",
      "(-30.321581606139119, 'кажется ,')\n",
      "(-24.173676697861886, 'так что')\n",
      "(-18.205581086386019, 'какие')\n",
      "(-16.959223829385969, 'сделать')\n",
      "(-16.892465900666171, 'с )')\n",
      "(-16.592885399622844, 'работы')\n",
      "(-16.582592937977335, 'который')\n",
      "(-16.454912439689164, 'тех')\n",
      "(-16.196776966527619, '»')\n",
      "Wall time: 53.2 s\n"
     ]
    }
   ],
   "source": [
    "%%time\n",
    "for trait in ['HEX1_eX', 'HEX2_A', 'HEX3_C', 'HEX4_E', 'HEX5_O', 'HEX6_H']:\n",
    "    lm = LinearRegression()\n",
    "    vectorizer = TfidfVectorizer(ngram_range=(1, 2), \n",
    "                         analyzer='word', \n",
    "                         tokenizer=word_tokenize, \n",
    "                         min_df = 50, \n",
    "                         max_df = 0.8, \n",
    "                         max_features = 5000)\n",
    "    build_model(data, X='text', y=trait, vectorizer=vectorizer, model=lm)"
   ]
  }
 ],
 "metadata": {
  "kernelspec": {
   "display_name": "Python 3",
   "language": "python",
   "name": "python3"
  },
  "language_info": {
   "codemirror_mode": {
    "name": "ipython",
    "version": 3
   },
   "file_extension": ".py",
   "mimetype": "text/x-python",
   "name": "python",
   "nbconvert_exporter": "python",
   "pygments_lexer": "ipython3",
   "version": "3.6.2"
  }
 },
 "nbformat": 4,
 "nbformat_minor": 2
}
