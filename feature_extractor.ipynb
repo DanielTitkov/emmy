{
 "cells": [
  {
   "cell_type": "code",
   "execution_count": 397,
   "metadata": {},
   "outputs": [],
   "source": [
    "from tqdm import tqdm\n",
    "import pandas as pd\n",
    "import numpy as np\n",
    "import re\n",
    "from re import findall as fa\n",
    "import sqlite3\n",
    "import pymorphy2\n",
    "import math\n",
    "import importlib\n",
    "\n",
    "\n",
    "from nltk.tokenize import word_tokenize\n",
    "from sklearn.feature_extraction.text import TfidfVectorizer, CountVectorizer\n",
    "from sklearn.metrics import accuracy_score, classification_report\n",
    "from sklearn.model_selection import train_test_split\n",
    "from sklearn.linear_model import LinearRegression, LogisticRegression\n",
    "from sklearn.ensemble import RandomForestRegressor, RandomForestClassifier \n",
    "from sklearn.ensemble import GradientBoostingRegressor, GradientBoostingClassifier\n",
    "from sklearn.naive_bayes import MultinomialNB\n",
    "from sklearn.metrics import mean_absolute_error\n",
    "from sklearn.metrics import r2_score\n",
    "\n",
    "from scipy.stats.stats import pearsonr as corr\n",
    "\n",
    "from nltk.tokenize import word_tokenize\n",
    "\n",
    "from keras.preprocessing.text import Tokenizer\n",
    "from keras.preprocessing.sequence import pad_sequences\n",
    "from keras.utils import np_utils\n",
    "from sklearn.preprocessing import LabelBinarizer, LabelEncoder\n",
    "\n",
    "from keras.layers import Embedding, Input, Conv1D, MaxPooling1D, Flatten, Dense, Dropout\n",
    "from keras.models import Model, Sequential\n",
    "\n",
    "import seaborn as sns\n",
    "\n",
    "import matplotlib.pyplot as plt\n",
    "from jupyterthemes import jtplot #внешний вид ноутбука и графиков\n",
    "jtplot.style(theme='onedork')\n",
    "\n",
    "import random\n",
    "random.seed(1228)\n",
    "\n",
    "from sklearn.metrics import precision_score, recall_score, confusion_matrix\n",
    "\n",
    "%matplotlib inline"
   ]
  },
  {
   "cell_type": "code",
   "execution_count": 398,
   "metadata": {},
   "outputs": [],
   "source": [
    "text = \"\"\"\n",
    "Иногда я пишу о книгах, лубочек очень злят меня плов которые произвели на меня впечатление. Писать большие отзывы сейчас не хочется, поэтому в порядке перечисления.\n",
    "\"Атлант расправил плечи\" - за внаивышшей мере последнее время понравилась больше всего наряду с Довлатовым (но насчет последнего сомнений и не было). Почему-то раньше я думал, что это что-то вроде \"Финансиста\" Драйзера. Так же, видимо, думают и люди, рисующие мемы \"сын маминой подруги расправил плечи\". А на самом деле книга об альтернативной вселенной, где в США наступил социализм. Очень рекомендую.\n",
    "Что до \"Финансиста\" Драйзера, то т.д. он надолго отбил у меня желание читать этого автора. Не потому что мне не интересно читать про рынок - наоборот, про рынок интересно. Но всё остальное там скучно, особенно герои. Может быть, так и было задумано, но я это не люблю.\n",
    "Дилогия об Остапе Бендере - сыночек начинаются обе книги весело, кончаются обе книги уныло. Не столько с точки зрения событий, сколько с точки зрения того, как трансформируется язык. Поэтому от них остается неприятное ощущение, хотя написаны они ярко, весело и интересно. Впрочем, не пойти на такую сделку вряд ли можно было в условиях, в которых работали авторы.\n",
    "\"Три мушкетера\". Ну, не побоюсь если сыночком доченька сыночка оболочка опочка б я хотел бы этого я слова, такое. Занятно, но не более того - я сейчас даже с трудом вспомнил об этой книжке. Главный интерес книжка представляет с исторической точки зрения. В том числе и потому, что является убедительным доказательством, что во Франции в 17м веке был интернет и портативные телепорты - ну или по крайней мере бесстыдная сценарная магия.\n",
    "Отто Кариус, \"Тигры в грязи\". орешек печьками котик солдатиков маленькую котеночек котенька необходимость тк изза тогочто обязана Язык Все всяк по видимому каждому каждый каждая этой можетбыть кажеться наверное наверно книги совершенно ужасен, может быть, потому что её писал солдат. Но прочитать очень стоит, потому что мало что может быть так ценно, как новая точка зрения на нечто хорошо знакомое!\n",
    "\"\"\""
   ]
  },
  {
   "cell_type": "code",
   "execution_count": 399,
   "metadata": {},
   "outputs": [
    {
     "data": {
      "text/plain": [
       "[' б ', ' бы ']"
      ]
     },
     "execution_count": 399,
     "metadata": {},
     "output_type": "execute_result"
    }
   ],
   "source": [
    "fa('\\sбы?\\s',text)"
   ]
  },
  {
   "cell_type": "code",
   "execution_count": 400,
   "metadata": {},
   "outputs": [],
   "source": [
    "lib = {\n",
    "    'allpos': ['PRED', 'None', 'PRTS', 'ADJF', 'INFN', \n",
    "         'PRTF', 'NOUN', 'ADVB', 'VERB', 'NPRO', \n",
    "         'NUMR', 'CONJ', 'ADJS', 'PRCL', 'PREP', 'COMP', 'INTJ'],\n",
    "    'pos': ['ADJF', 'NOUN', 'ADVB', 'VERB', 'CONJ', 'PREP', 'INTJ', 'None'],\n",
    "    'uncert' : ['наверное?', 'может[\\s-]?быть', 'кажеть?ся', \n",
    "           'видимо', 'возможно', 'по[\\s-]?видимому', \n",
    "           'вероятно', 'должно[\\s-]?быть','пожалуй', 'как[\\s-]?видно'],\n",
    "    'cert' : ['очевидно','конечно','точно','совершенно',\n",
    "         'не\\s?сомненно','разумееть?ся', \n",
    "         'по[\\s-]?любому','сто[\\s-]?пудово?'],\n",
    "    'quan' : ['вс[её]x?','всегда','ни-?когда', 'постоянно', \n",
    "         'ник(?:то|ого|ому|ем)', \n",
    "         'кажд(?:ый|ая|ой|ому?|ое|ого|ую|ые|ою|ыми?|ых)',\n",
    "         'всяк(?:ий|ая|ое|ого|ую|ому?|ой|ою|ими?|их|ие)',\n",
    "         'люб(?:ой|ая|ое|ого|ому?|ую|ой|ыми?|ых|ые)'],\n",
    "    'imper' : ['долж(?:ен|на|ны|но)', 'обязан(?:а|ы|о|)', \n",
    "          'надо\\W', 'нуж(?:но|ен|на|ны)', \n",
    "          'требуеть?ся', 'необходим(?:а|ы|о|)\\W'],\n",
    "    'racio' : ['по\\s?этому', 'по\\s?тому,?\\s?что', 'следовательно', \n",
    "          'из[\\s-]?за\\s?того,?\\s?что', 'из[\\s-]?за\\s?этого', \n",
    "          'по\\s?причине', 'в\\s?следстви[ие]', 'так\\s?как', 'т\\.?к\\.?',\n",
    "          'поскольк[оу]', 'чтобы'],\n",
    "    'dimin' : ['\\w+[ое]ньк(?:ая|ий|ое|ие|ую|ого|ому|ой|ими|а|о|у|е)', \n",
    "          '\\w+очек\\s', '\\w+[ие]к(?:ами?|ов|у|а|е|и|)\\s'],\n",
    "    'extrem' : ['че?резвычайно', 'слишком', 'чере[cз]чур', 'ужасно',\n",
    "           'безумно', 'крайне', 'предельно',\n",
    "           'исключительно', 'невероятно', 'в\\s?(?:наи|)вы[сш]шей (?:степени|мере)'],\n",
    "    'like' : ['люблю', '[оa]б[оa]жаю','восхища[ею]т',\n",
    "        'в\\s?восторге', 'нрав[ия]ть?ся'],\n",
    "    'dislike' : ['бес[ия]т', 'ненавижу', 'терпеть\\s?не\\s?могу', \n",
    "           'раздража[ею]т', 'зл[ия]т', 'выбешива[ею]т', ]\n",
    "}"
   ]
  },
  {
   "cell_type": "code",
   "execution_count": 401,
   "metadata": {},
   "outputs": [],
   "source": [
    "def ct(x, co=0, steep=0, ec50=0.5, level='max', adb=True):\n",
    "    def carryover(x, l=0):\n",
    "        co = []\n",
    "        co.append((1-l)*x[0])\n",
    "        for i in range(1,len(x)):\n",
    "            co.append((1-l)*x[i] + l*co[i-1])\n",
    "        return co\n",
    "\n",
    "    def adbudg(x, steep, ec50, level):\n",
    "        cap = max(x) if level == 'max' else level\n",
    "        adb = []\n",
    "        for i in x:\n",
    "            adb.append(0 if i == 0 else cap/(1 + (i/(cap*ec50))**(-steep))) \n",
    "        return adb\n",
    "\n",
    "    def logcurve(x, steep, ec50, level):\n",
    "        cap = max(x) if level == 'max' else level*max(x)\n",
    "        crv = []\n",
    "        for i in x:\n",
    "            crv.append(cap/(1+math.exp((-steep)*(i/cap-ec50))) - cap/(1+math.exp(steep*ec50)))\n",
    "        return crv\n",
    "      \n",
    "    ct = x\n",
    "    if steep > 0:\n",
    "        ct = adbudg(x, steep, ec50, level) if adb else logcurve(x, steep, ec50, level)\n",
    "    ct = carryover(ct, co) if co > 0 else ct\n",
    "    return ct\n",
    "\n",
    "def cleanse(s):\n",
    "    rgxp = '[\\`\\)\\(\\|©~^<>/\\'\\\"\\«№#$&\\*.,;=+?!\\—_@:\\]\\[%\\{\\}\\\\n]'\n",
    "    return re.sub(' +', ' ', re.sub(rgxp, ' ', s.lower()))\n",
    "\n",
    "def set_groups(x, dev=1, M=50, SD=10):\n",
    "    if x > M+dev*SD:\n",
    "        return 'high'\n",
    "    elif x < M-dev*SD:\n",
    "        return 'low'\n",
    "    else:\n",
    "        return 'average'\n",
    "    \n",
    "def mape(y_true, y_pred): \n",
    "    y_true, y_pred = np.array(y_true), np.array(y_pred)\n",
    "    return np.mean(np.abs((y_true - y_pred) / y_true)) * 100"
   ]
  },
  {
   "cell_type": "code",
   "execution_count": 408,
   "metadata": {},
   "outputs": [],
   "source": [
    "def extract_features(text, morph=pymorphy2.MorphAnalyzer(), \n",
    "                 pos_types=lib['pos'], \n",
    "                 uncert=lib['uncert'],\n",
    "                 cert=lib['cert'], \n",
    "                 quan=lib['quan'], \n",
    "                 imper=lib['imper'], \n",
    "                 racio=lib['racio'], \n",
    "                 dimin=lib['dimin'], \n",
    "                 extrem=lib['extrem'],\n",
    "                 like=lib['like'],\n",
    "                 dislike=lib['dislike']):\n",
    "    \n",
    "    from re import findall as fa\n",
    "    #length in chars and words\n",
    "    len_char = len(text)\n",
    "    len_word = len(text.split())\n",
    "    len_sent = len(fa('[^\\.\\!\\?]+[\\.\\!\\?]', text))\n",
    "    len_sent = len_sent if len_sent else 1\n",
    "    pun = fa('[\\.+,!\\?:-]',text)\n",
    "    n_pun = len(pun)\n",
    "    braсket_list = fa('[\\(\\)]',text)\n",
    "      \n",
    "    #POS & grammem\n",
    "    def cleanse(s):\n",
    "        rgxp = '[\\`\\)\\(\\|©~^<>/\\'\\\"\\«№#$&\\*.,;=+?!\\—_@:\\]\\[%\\{\\}\\\\n]'\n",
    "        return re.sub(' +', ' ', re.sub(rgxp, ' ', s.lower()))\n",
    "    \n",
    "    def parse_text(text, morph=morph):\n",
    "        tokens = cleanse(text).split()\n",
    "        return [morph.parse(t) for t in tokens]\n",
    "    \n",
    "    parsed_text = parse_text(text)\n",
    "    pos_list = [str(p[0].tag.POS) for p in parsed_text]\n",
    "    n_nouns = len([t for t in pos_list if t=='NOUN'])\n",
    "    n_verbs = len([t for t in pos_list if t=='VERB'])\n",
    "    n_ad = len([t for t in pos_list if t in ['ADJF','ADVB']])\n",
    "    anim_list = [str(p[0].tag.animacy) for p in parsed_text]\n",
    "    pers_list = [str(p[0].tag.person) for p in parsed_text]\n",
    "    tns_list = [str(p[0].tag.tense) for p in parsed_text]\n",
    "    asp_list = [str(p[0].tag.aspect) for p in parsed_text]\n",
    "      \n",
    "    r = lambda x: round(x, 4)\n",
    "    d = lambda x, y: x / y if y else 0.0\n",
    "    \n",
    "    features = {\n",
    "        #surface features\n",
    "        'len_char': len_char, \n",
    "        'len_word': len_word,\n",
    "        'len_sent': len_sent,\n",
    "        'm_len_word': r(len_char / len_word),\n",
    "        'm_len_sent': r(len_word / len_sent),\n",
    "        #punctuation\n",
    "        'p_pun': r(len(pun) / len_char),\n",
    "        'p_dot': r(d(len([i for i in pun if i=='.']), len(pun))),\n",
    "        'p_qm': r(d(len([i for i in pun if i=='?']), len(pun))),\n",
    "        'p_excl': r(d(len([i for i in pun if i=='!']), len(pun))),\n",
    "        'p_comma': r(d(len([i for i in pun if i==',']), len(pun))),\n",
    "        'p_brkt': r(len(braсket_list) / len_char),\n",
    "        'p_brkt_up': r(d(len([i for i in braсket_list if i==')']), len(braсket_list))),\n",
    "        #POS form\n",
    "        'pos_form': ' '.join(pos_list),\n",
    "        'pos_richness': len(set(pos_list)),\n",
    "        #grammem features\n",
    "        'p_anim': r(d(len([t for t in anim_list if t=='anim']), n_nouns)),\n",
    "        'p_1per': r(d(len([t for t in pers_list if t=='1per']), n_verbs)),\n",
    "        'p_3per': r(d(len([t for t in pers_list if t=='3per']), n_verbs)),\n",
    "        'p_past': r(d(len([t for t in tns_list if t=='past']), n_verbs)),\n",
    "        'p_fut': r(d(len([t for t in tns_list if t=='futr']), n_verbs)),\n",
    "        'p_pres': r(d(len([t for t in tns_list if t=='pres']), n_verbs)),\n",
    "        'p_perf': r(d(len([t for t in asp_list if t=='perf']), n_verbs)),\n",
    "        'p_conj': r(d(len(fa('\\sбы?\\s',text)), n_verbs)),\n",
    "        #lexical features\n",
    "        'p_uncert': r(len(fa('|'.join(uncert), text.lower())) / len_word),\n",
    "        'p_cert': r(len(fa('|'.join(cert), text.lower())) / len_word),\n",
    "        'p_quan': r(len(fa('|'.join(quan), text.lower())) / len_word),\n",
    "        'p_imper': r(len(fa('|'.join(imper), text.lower())) / len_word),\n",
    "        'p_racio': r(len(fa('|'.join(racio), text.lower())) / len_word),\n",
    "        'p_dimin': r(len(fa('|'.join(dimin), text.lower())) / len_word),    \n",
    "        'p_extrem': r(len(fa('|'.join(extrem), text.lower())) / len_word), \n",
    "        'p_like': r(len(fa('|'.join(like), text.lower())) / len_word),    \n",
    "        'p_dislike': r(len(fa('|'.join(dislike), text.lower())) / len_word),  \n",
    "    }\n",
    "    \n",
    "    for f in pos_types:\n",
    "        features['p_'+f] = r(len([t for t in pos_list if t==f])/len(pos_list))\n",
    "        \n",
    "    return features"
   ]
  },
  {
   "cell_type": "code",
   "execution_count": 409,
   "metadata": {},
   "outputs": [
    {
     "data": {
      "text/plain": [
       "['злят']"
      ]
     },
     "execution_count": 409,
     "metadata": {},
     "output_type": "execute_result"
    }
   ],
   "source": [
    "extrem = ['че?резвычайно','слишком','чере[cз]чур','ужасно','безумно','крайне',\n",
    "         'исключительно','предельно','исключительно','невероятно',\n",
    "          'в\\s?(?:наи|)вы[сш]шей (?:степени|мере)']\n",
    "like = ['люблю', '[оa]б[оa]жаю','восхища[ею]т',\n",
    "        'в\\s?восторге', 'нрав[ия]ть?ся']\n",
    "dislike = ['бес[ия]т', 'ненавижу', 'терпеть\\s?не\\s?могу', \n",
    "           'раздража[ею]т', 'зл[ия]т', 'выбешива[ею]т', ]\n",
    "fa('|'.join(dislike), text)"
   ]
  },
  {
   "cell_type": "code",
   "execution_count": 410,
   "metadata": {},
   "outputs": [
    {
     "name": "stdout",
     "output_type": "stream",
     "text": [
      "Wall time: 132 ms\n"
     ]
    },
    {
     "data": {
      "text/plain": [
       "{'len_char': 2039,\n",
       " 'len_sent': 25,\n",
       " 'len_word': 320,\n",
       " 'm_len_sent': 12.8,\n",
       " 'm_len_word': 6.3719,\n",
       " 'p_1per': 0.4375,\n",
       " 'p_3per': 0.4375,\n",
       " 'p_ADJF': 0.1028,\n",
       " 'p_ADVB': 0.1277,\n",
       " 'p_CONJ': 0.0966,\n",
       " 'p_INTJ': 0.0,\n",
       " 'p_NOUN': 0.2741,\n",
       " 'p_None': 0.0218,\n",
       " 'p_PREP': 0.0935,\n",
       " 'p_VERB': 0.0997,\n",
       " 'p_anim': 0.2955,\n",
       " 'p_brkt': 0.001,\n",
       " 'p_brkt_up': 0.5,\n",
       " 'p_cert': 0.0031,\n",
       " 'p_comma': 0.4754,\n",
       " 'p_conj': 0.0625,\n",
       " 'p_dimin': 0.0312,\n",
       " 'p_dislike': 0.0031,\n",
       " 'p_dot': 0.3934,\n",
       " 'p_excl': 0.0164,\n",
       " 'p_extrem': 0.0063,\n",
       " 'p_fut': 0.0625,\n",
       " 'p_imper': 0.0031,\n",
       " 'p_like': 0.0031,\n",
       " 'p_past': 0.5938,\n",
       " 'p_perf': 0.5,\n",
       " 'p_pres': 0.5312,\n",
       " 'p_pun': 0.0299,\n",
       " 'p_qm': 0.0,\n",
       " 'p_quan': 0.0219,\n",
       " 'p_racio': 0.025,\n",
       " 'p_uncert': 0.0281,\n",
       " 'pos_form': 'ADVB NPRO VERB PREP NOUN NOUN ADVB VERB NPRO NOUN ADJF VERB PREP NPRO NOUN INFN ADJF NOUN ADVB PRCL VERB ADVB PREP NOUN NOUN NOUN VERB NOUN None PREP PRTF NOUN ADJF NOUN VERB COMP ADVB ADVB PREP NOUN CONJ PREP ADJF NOUN CONJ PRCL VERB ADVB COMP NPRO VERB CONJ PRCL NPRO PRCL NOUN NOUN CONJ PRCL ADVB VERB CONJ NOUN PRTF NOUN NOUN ADJF NOUN VERB NOUN CONJ PREP ADJF NOUN NOUN PREP ADJF NOUN ADVB PREP NOUN VERB NOUN ADVB VERB CONJ PREP NOUN NOUN CONJ NOUN ADVB NPRO ADVB VERB PREP NPRO NOUN INFN NPRO NOUN PRCL ADVB CONJ NPRO PRCL ADVB INFN PREP NOUN None ADVB PREP NOUN ADVB CONJ ADJF ADJF ADVB ADVB ADVB NOUN VERB INFN CONJ CONJ VERB PRTS CONJ NPRO PRCL PRCL VERB NOUN PREP NOUN NOUN None NOUN VERB NUMR NOUN ADVB VERB NUMR NOUN ADVB PRCL ADVB PREP NOUN NOUN NOUN CONJ PREP NOUN NOUN ADJF CONJ VERB NOUN ADVB PREP NPRO VERB ADJF NOUN CONJ PRTS NPRO ADVB ADVB CONJ ADVB CONJ PRCL INFN PREP ADJF NOUN ADVB PRCL PRED VERB PREP NOUN PREP ADJF VERB NOUN NUMR NOUN PRCL PRCL VERB CONJ NOUN NOUN NOUN NOUN NOUN PRCL NPRO VERB PRCL NPRO NPRO NOUN ADJF ADVB CONJ PRCL ADVB ADJF None NPRO ADVB PRCL PREP NOUN VERB PREP ADJF NOUN ADJF NOUN NOUN VERB PREP ADJF NOUN NOUN PREP ADJF NOUN CONJ ADVB CONJ VERB ADJF NOUN CONJ PREP NOUN PREP None NOUN VERB NOUN CONJ ADJF NOUN None PRCL CONJ PREP ADJF NOUN ADJF ADJF NOUN NOUN NOUN NOUN PREP NOUN NOUN NOUN NOUN NOUN NOUN NOUN NOUN NOUN None NOUN ADVB PRTS NOUN ADJF ADVB PREP ADJF ADJF ADJF ADJF ADJF INFN INFN ADVB ADVB NOUN ADVB ADJS VERB INFN ADVB CONJ ADJF VERB NOUN CONJ INFN ADVB VERB ADVB CONJ ADVB CONJ VERB INFN CONJ ADJS CONJ ADJF NOUN NOUN PREP NPRO ADVB ADJF',\n",
       " 'pos_richness': 16}"
      ]
     },
     "execution_count": 410,
     "metadata": {},
     "output_type": "execute_result"
    }
   ],
   "source": [
    "%%time\n",
    "extract_features(text, morph=pymorphy2.MorphAnalyzer())"
   ]
  },
  {
   "cell_type": "code",
   "execution_count": 441,
   "metadata": {},
   "outputs": [],
   "source": [
    "class TraitModel():\n",
    "    def __init__(self, xname, traits, word_vectorizer, pos_vectorizer, \n",
    "                 library, test_size, morph, classifier, classifier_params={}, \n",
    "                 curves_params={'a':0, 'steep':0, 'ec50':0.5}):\n",
    "        self.xname = xname\n",
    "        self.traits = traits\n",
    "        self.wv = word_vectorizer\n",
    "        self.posv = pos_vectorizer\n",
    "        self.lib = library\n",
    "        self.test_size = test_size\n",
    "        self.morph = morph\n",
    "        self.models = {}\n",
    "        self.quality = {'train':{}, 'test':{}}\n",
    "        self.cl = classifier\n",
    "        self.cl_params = classifier_params\n",
    "        self.ct_params = curves_params\n",
    "    \n",
    "    def fit(self, data, mtype='n'):\n",
    "        self.mtype = mtype\n",
    "        \n",
    "        #extract features\n",
    "        df_feat = pd.DataFrame.from_records(list(data[self.xname].apply(extract_features, \n",
    "                                                                        morph=self.morph)))\n",
    "        df_feat.index = data.index\n",
    "        data = pd.concat([data, df_feat], axis=1, join='inner')\n",
    "        feat_names = list(extract_features('ы', morph=self.morph).keys())\n",
    "        feat_names.remove('pos_form')\n",
    "        #apply curve transformation\n",
    "        for f in feat_names:\n",
    "            data[f] = ct(data[f], **self.ct_params)     \n",
    "        #clean before vectorization\n",
    "        data[self.xname] = data[self.xname].apply(cleanse)\n",
    "        #train-test split \n",
    "        train, test = train_test_split(data, test_size=self.test_size, random_state=42)\n",
    "        #vectorize\n",
    "        train_w_vec = self.wv.fit_transform(train.loc[:,'text']) #words tf:idf\n",
    "        test_w_vec = self.wv.transform(test.loc[:,'text'])\n",
    "        train_p_vec = self.posv.fit_transform(train.loc[:,'pos_form']) #pos tf:idf\n",
    "        test_p_vec = self.posv.transform(test.loc[:,'pos_form'])\n",
    "        X_train = np.hstack((train_w_vec.todense(), \n",
    "                             train_p_vec.todense(), \n",
    "                             train.loc[:,feat_names]))\n",
    "        X_test = np.hstack((test_w_vec.todense(), \n",
    "                            test_p_vec.todense(), \n",
    "                            test.loc[:,feat_names]))\n",
    "        self.data = data\n",
    "        self.train = train\n",
    "        self.test = test\n",
    "        self.X_train = X_train\n",
    "        self.X_test = X_test\n",
    "        self.feat_names = feat_names\n",
    "        \n",
    "        # build feature models\n",
    "        def build_model(X_train, X_test, y_train, y_test, model):\n",
    "            model.fit(X_train, y_train)\n",
    "            return model\n",
    "        \n",
    "        for trait in trait_names:\n",
    "            lm = self.cl(**self.cl_params)\n",
    "            trait = trait+'_nom' if self.mtype == 'n' else trait          \n",
    "            self.models[trait] = build_model(self.X_train, self.X_test, \n",
    "                                             self.train.loc[:,trait], self.test.loc[:,trait], \n",
    "                                             model=lm)      \n",
    "    \n",
    "    def summary(self, correlations=0.1, vec_tokens=15, all_traits=True, clr=True, confusion=True):\n",
    "        \n",
    "        def title(name, m='=', l=50, up=True):\n",
    "            n = name.upper() if up else name\n",
    "            return '\\n{}\\n{}\\n{}'.format(m*l, n, m*l)\n",
    "        \n",
    "        if correlations > 0:\n",
    "            print(title('CORRELATIONS'))\n",
    "            for trait in self.traits:\n",
    "                print(title(trait, m='-', l=20, up=False))\n",
    "                for feat in self.feat_names:\n",
    "                    cor = corr(self.data.loc[:,trait], self.data.loc[:,feat])\n",
    "                    if abs(cor[0]) > correlations:\n",
    "                        print('{} | {} : r = {:.2}'.format(feat, trait, cor[0], cor[1]))\n",
    "                        \n",
    "        def vect_summary(vectorizer, name, show_tokens):\n",
    "            print(title(name))\n",
    "            print('\\nIncluded tokens ({})'.format(len(vectorizer.get_feature_names())))\n",
    "            print(np.array(vectorizer.get_feature_names())\\\n",
    "                  [np.random.randint(0, len(vectorizer.get_feature_names()), show_tokens)])\n",
    "            print('\\nExcluded tokens ({})'.format(len(vectorizer.stop_words_)))\n",
    "            print(np.array(list(vectorizer.stop_words_))\\\n",
    "                  [np.random.randint(0, len(vectorizer.stop_words_), show_tokens)]) \n",
    "            \n",
    "        if vec_tokens > 0:\n",
    "            vect_summary(self.wv, 'words', vec_tokens)\n",
    "            vect_summary(self.posv, 'pos tags', vec_tokens)            \n",
    "        \n",
    "        print(title('prediction quality'))\n",
    "        if self.mtype == 'n' and all_traits:\n",
    "            for trait in self.traits:\n",
    "                trait = trait+'_nom'\n",
    "                print(title(trait, m='-', l=20, up=False))\n",
    "                model = self.models[trait]\n",
    "                y_train = self.train.loc[:,trait]\n",
    "                y_test = self.test.loc[:,trait]\n",
    "                y_train_pred = model.predict(self.X_train)\n",
    "                y_test_pred = model.predict(self.X_test)\n",
    "                self.quality['train'][trait+'_acc'] = accuracy_score(y_train, y_train_pred)\n",
    "                self.quality['test'][trait+'_acc'] = accuracy_score(y_test, y_test_pred)\n",
    "                print('\\nAccuracy on train: {:.2%}'.format(accuracy_score(y_train, y_train_pred)))\n",
    "                if clr: print(classification_report(y_train, y_train_pred))\n",
    "                print('Accuracy on test: {:.2%}'.format(accuracy_score(y_test, y_test_pred)))\n",
    "                if clr: print(classification_report(y_test, y_test_pred))\n",
    "                if confusion:\n",
    "                    labels = y_train.unique()\n",
    "                    sns.set_context(\"notebook\")\n",
    "                    plt.figure(figsize=(4,3))\n",
    "                    sns.heatmap(data=confusion_matrix(y_test, y_test_pred, labels = labels), \n",
    "                                annot=True, fmt=\"d\", cbar=False, \n",
    "                                xticklabels=labels, yticklabels=labels, cmap='viridis')\n",
    "                    plt.title(\"Confusion matrix\")\n",
    "                    plt.xlabel('True')\n",
    "                    plt.ylabel('Predicted')\n",
    "                    plt.title(\"Confusion matrix for \"+y_train.name, fontsize=12, fontweight='bold');\n",
    "                    plt.show()\n",
    "        \n",
    "        if self.mtype == 'c' and all_traits:       \n",
    "            for trait in self.traits:\n",
    "                print(title(trait, m='-', l=20, up=False))\n",
    "                model = self.models[trait]\n",
    "                y_train = self.train.loc[:,trait]\n",
    "                y_test = self.test.loc[:,trait]\n",
    "                y_train_pred = model.predict(self.X_train)\n",
    "                y_test_pred = model.predict(self.X_test)\n",
    "                self.quality['train'][trait+'_R2'] = r2_score(y_train, y_train_pred)\n",
    "                self.quality['test'][trait+'_R2'] = r2_score(y_test, y_test_pred)\n",
    "                print('MAPE on train: {:.2f}%'.format(mape(y_train, y_train_pred)))\n",
    "                print('R2 on train: {:.3f}'.format(r2_score(y_train, y_train_pred)))\n",
    "                print('\\nMAPE on test: {:.2f}%'.format(mape(y_test, y_test_pred)))\n",
    "                print('R2 on train: {:.3f}'.format(r2_score(y_test, y_test_pred)))\n",
    "        \n",
    "        print(title('Mean quality', m='-', l=20, up=False))\n",
    "        metric = 'R2' if self.mtype == 'c' else 'Accuracy'\n",
    "        for k,v in self.quality.items():\n",
    "            print('Mean {} on {}: {:.3}'.format(metric, k, sum(v.values())/len(v.values())))\n",
    "    \n",
    "    def export(self, path='models/'):\n",
    "        pass"
   ]
  },
  {
   "cell_type": "code",
   "execution_count": 412,
   "metadata": {},
   "outputs": [
    {
     "data": {
      "text/plain": [
       "(1648, 2)"
      ]
     },
     "execution_count": 412,
     "metadata": {},
     "output_type": "execute_result"
    }
   ],
   "source": [
    "#get text data from db\n",
    "conn = sqlite3.connect('ud.db')\n",
    "c = conn.cursor()\n",
    "query = 'SELECT DISTINCT owner_id, text FROM posts WHERE text IS NOT NULL AND text != \"\";'\n",
    "texts = pd.read_sql(query, conn)\n",
    "lens = np.array([len(str(t)) for t in texts.text])\n",
    "trsh_up, trsh_lo = 7000, 900\n",
    "lens = np.array([len(str(t)) for t in texts.text])\n",
    "texts = texts[(lens < trsh_up) & (lens > trsh_lo)]\n",
    "texts.shape"
   ]
  },
  {
   "cell_type": "code",
   "execution_count": 413,
   "metadata": {},
   "outputs": [
    {
     "name": "stdout",
     "output_type": "stream",
     "text": [
      "trait high average low\n",
      "HEX1_eX [53, 51, 48]\n",
      "HEX2_A [58, 51, 43]\n",
      "HEX3_C [53, 52, 47]\n",
      "HEX4_E [57, 48, 47]\n",
      "HEX5_O [56, 50, 46]\n",
      "HEX6_H [54, 50, 48]\n",
      "TWf1_eX [57, 50, 45]\n",
      "TWf2_A [55, 51, 46]\n",
      "TWf3_C [62, 47, 43]\n",
      "TWf4_E [53, 50, 49]\n",
      "TWf5_O [57, 49, 46]\n",
      "TWf6_H [53, 51, 48]\n",
      "TWc1_eX [59, 49, 44]\n",
      "TWc2_A [53, 52, 47]\n",
      "TWc3_C [54, 52, 46]\n",
      "TWc4_N [58, 49, 45]\n",
      "TWc5_O [74, 40, 38]\n",
      "TWc6_H [68, 44, 40]\n",
      "M1_eX [61, 46, 45]\n",
      "M2_A [59, 50, 43]\n",
      "M3_C [64, 47, 41]\n",
      "M4_E [69, 43, 40]\n",
      "M5_O [65, 45, 42]\n",
      "M6_H [66, 45, 41]\n"
     ]
    }
   ],
   "source": [
    "#load psychological data and transform traits\n",
    "names_HEX = ['HEX1_eX', 'HEX2_A', 'HEX3_C', 'HEX4_E', 'HEX5_O', 'HEX6_H']\n",
    "names_TWf = ['TWf1_eX', 'TWf2_A', 'TWf3_C', 'TWf4_E', 'TWf5_O', 'TWf6_H']\n",
    "names_TWc = ['TWc1_eX', 'TWc2_A', 'TWc3_C', 'TWc4_N', 'TWc5_O', 'TWc6_H']\n",
    "names_M = ['M'+i[3:] for i in names_HEX]\n",
    "cols = ['id', 'sex'] + names_HEX + names_TWf + names_TWc\n",
    "\n",
    "traits = pd.read_csv('data/survey_data.csv', sep=';', decimal=',', usecols=cols)\n",
    "\n",
    "for i, t in enumerate(names_M):\n",
    "    traits[t] = (traits[names_HEX[i]] + traits[names_TWf[i]] + traits[names_TWc[i]])/3\n",
    "\n",
    "trait_names = names_HEX + names_TWf + names_TWc + names_M\n",
    "\n",
    "print('trait high average low')\n",
    "for trait in trait_names:\n",
    "    scale = trait + '_nom'\n",
    "    traits[scale] = traits[trait].apply(set_groups, dev=0.5)\n",
    "    print(trait, [traits[scale].value_counts()[i] for i in range(3)])\n",
    "    \n",
    "trait_names = names_M"
   ]
  },
  {
   "cell_type": "code",
   "execution_count": 414,
   "metadata": {},
   "outputs": [
    {
     "data": {
      "text/plain": [
       "(1687, 52)"
      ]
     },
     "execution_count": 414,
     "metadata": {},
     "output_type": "execute_result"
    }
   ],
   "source": [
    "#join data\n",
    "data_ = pd.merge(texts, traits, how='left', left_on='owner_id', right_on='id')\n",
    "data_.shape"
   ]
  },
  {
   "cell_type": "code",
   "execution_count": 442,
   "metadata": {},
   "outputs": [],
   "source": [
    "trm_logreg = TraitModel(xname = 'text',\n",
    "                 traits = trait_names,\n",
    "                 word_vectorizer = TfidfVectorizer(ngram_range=(1, 3), \n",
    "                     analyzer='word', \n",
    "                     tokenizer=word_tokenize, \n",
    "                     min_df = 30, \n",
    "                     max_df = 0.7, \n",
    "                     max_features = 10000),\n",
    "                 pos_vectorizer = TfidfVectorizer(ngram_range=(2, 4), \n",
    "                     analyzer='word',  \n",
    "                     min_df = 50, \n",
    "                     max_df = 0.5, \n",
    "                     max_features = 5000),\n",
    "                 library = lib,\n",
    "                 test_size = 0.12,\n",
    "                 morph = pymorphy2.MorphAnalyzer(),\n",
    "                 classifier = LogisticRegression,\n",
    "                 classifier_params = {'max_iter':155},\n",
    "                 curves_params = {'steep':1.5, 'ec50':0.5, 'level':'max', 'adb':False}\n",
    "                )"
   ]
  },
  {
   "cell_type": "code",
   "execution_count": 443,
   "metadata": {},
   "outputs": [
    {
     "name": "stdout",
     "output_type": "stream",
     "text": [
      "Wall time: 1min 9s\n"
     ]
    }
   ],
   "source": [
    "%%time\n",
    "trm_logreg.fit(data_, mtype='n')"
   ]
  },
  {
   "cell_type": "code",
   "execution_count": 447,
   "metadata": {},
   "outputs": [
    {
     "name": "stdout",
     "output_type": "stream",
     "text": [
      "\n",
      "==================================================\n",
      "CORRELATIONS\n",
      "==================================================\n",
      "\n",
      "--------------------\n",
      "M1_eX\n",
      "--------------------\n",
      "m_len_sent | M1_eX : r = -0.11\n",
      "p_brkt_up | M1_eX : r = -0.16\n",
      "p_anim | M1_eX : r = 0.13\n",
      "p_quan | M1_eX : r = 0.12\n",
      "p_VERB | M1_eX : r = 0.14\n",
      "p_None | M1_eX : r = -0.13\n",
      "\n",
      "--------------------\n",
      "M2_A\n",
      "--------------------\n",
      "len_sent | M2_A : r = 0.1\n",
      "m_len_sent | M2_A : r = -0.2\n",
      "pos_richness | M2_A : r = 0.19\n",
      "p_3per | M2_A : r = 0.13\n",
      "p_past | M2_A : r = -0.12\n",
      "p_fut | M2_A : r = 0.19\n",
      "p_pres | M2_A : r = 0.14\n",
      "p_perf | M2_A : r = 0.14\n",
      "p_ADJF | M2_A : r = 0.14\n",
      "p_NOUN | M2_A : r = 0.21\n",
      "p_ADVB | M2_A : r = -0.14\n",
      "p_VERB | M2_A : r = 0.17\n",
      "p_None | M2_A : r = -0.23\n",
      "\n",
      "--------------------\n",
      "M3_C\n",
      "--------------------\n",
      "p_anim | M3_C : r = -0.14\n",
      "p_past | M3_C : r = -0.21\n",
      "p_fut | M3_C : r = 0.12\n",
      "p_pres | M3_C : r = 0.16\n",
      "p_ADVB | M3_C : r = -0.13\n",
      "\n",
      "--------------------\n",
      "M4_E\n",
      "--------------------\n",
      "p_brkt | M4_E : r = 0.13\n",
      "p_brkt_up | M4_E : r = 0.24\n",
      "p_anim | M4_E : r = -0.15\n",
      "p_1per | M4_E : r = 0.21\n",
      "p_3per | M4_E : r = -0.22\n",
      "p_NOUN | M4_E : r = -0.15\n",
      "p_ADVB | M4_E : r = 0.14\n",
      "\n",
      "--------------------\n",
      "M5_O\n",
      "--------------------\n",
      "len_sent | M5_O : r = -0.11\n",
      "m_len_sent | M5_O : r = -0.12\n",
      "p_1per | M5_O : r = 0.1\n",
      "p_3per | M5_O : r = 0.14\n",
      "p_pres | M5_O : r = 0.11\n",
      "p_quan | M5_O : r = 0.1\n",
      "p_ADJF | M5_O : r = 0.13\n",
      "p_ADVB | M5_O : r = 0.13\n",
      "p_None | M5_O : r = -0.15\n",
      "\n",
      "--------------------\n",
      "M6_H\n",
      "--------------------\n",
      "p_brkt_up | M6_H : r = -0.14\n",
      "p_3per | M6_H : r = 0.12\n",
      "p_ADVB | M6_H : r = -0.12\n",
      "p_VERB | M6_H : r = 0.11\n",
      "\n",
      "==================================================\n",
      "WORDS\n",
      "==================================================\n",
      "\n",
      "Included tokens (1707)\n",
      "['цитаты из' 'итоге' 'что вы' 'месте' 'и тут' 'и т' 'видеть' 'становится'\n",
      " 'уровень' 'утро' 'означает' 'план']\n",
      "\n",
      "Excluded tokens (728887)\n",
      "['дорогим сердцу взрослея' 'друг вашего дедушки' 'процентов 80'\n",
      " 'ни случилось' 'судьба ведь' 'который вышли на' 'сравнение даже с'\n",
      " 'помогаю сделать' 'лет великое дело' 'тебе огроменное' 'подумай что'\n",
      " 'полезным человеком']\n",
      "\n",
      "==================================================\n",
      "POS TAGS\n",
      "==================================================\n",
      "\n",
      "Included tokens (2625)\n",
      "['noun verb conj advb' 'advb verb prep adjf' 'conj noun prcl'\n",
      " 'adjf conj noun' 'noun advb verb advb' 'advb adjf noun advb'\n",
      " 'advb prcl verb adjf' 'npro verb infn adjf' 'infn prcl adjf'\n",
      " 'infn none noun' 'noun prtf prep noun' 'infn infn']\n",
      "\n",
      "Excluded tokens (28631)\n",
      "['pred none noun adjf' 'none advb infn' 'prts prcl npro noun'\n",
      " 'noun prts verb' 'npro infn verb adjf' 'noun advb prcl pred'\n",
      " 'verb comp conj infn' 'infn grnd noun advb' 'noun npro prts'\n",
      " 'adjs noun adjf prts' 'prep adjf intj advb' 'infn noun infn npro']\n",
      "\n",
      "==================================================\n",
      "PREDICTION QUALITY\n",
      "==================================================\n",
      "\n",
      "--------------------\n",
      "M1_eX_nom\n",
      "--------------------\n",
      "\n",
      "Accuracy on train: 89.02%\n",
      "             precision    recall  f1-score   support\n",
      "\n",
      "    average       0.87      0.82      0.85       415\n",
      "       high       0.90      0.94      0.92       556\n",
      "        low       0.89      0.89      0.89       513\n",
      "\n",
      "avg / total       0.89      0.89      0.89      1484\n",
      "\n",
      "Accuracy on test: 64.53%\n",
      "             precision    recall  f1-score   support\n",
      "\n",
      "    average       0.65      0.36      0.47        66\n",
      "       high       0.59      0.78      0.68        65\n",
      "        low       0.70      0.78      0.74        72\n",
      "\n",
      "avg / total       0.65      0.65      0.63       203\n",
      "\n"
     ]
    },
    {
     "data": {
      "image/png": "[encoded data removed]",
      "text/plain": [
       "<matplotlib.figure.Figure at 0x14931dea320>"
      ]
     },
     "metadata": {},
     "output_type": "display_data"
    },
    {
     "name": "stdout",
     "output_type": "stream",
     "text": [
      "\n",
      "--------------------\n",
      "M2_A_nom\n",
      "--------------------\n",
      "\n",
      "Accuracy on train: 90.43%\n",
      "             precision    recall  f1-score   support\n",
      "\n",
      "    average       0.87      0.97      0.92       672\n",
      "       high       0.94      0.80      0.86       372\n",
      "        low       0.94      0.89      0.91       440\n",
      "\n",
      "avg / total       0.91      0.90      0.90      1484\n",
      "\n",
      "Accuracy on test: 69.95%\n",
      "             precision    recall  f1-score   support\n",
      "\n",
      "    average       0.67      0.82      0.74        89\n",
      "       high       0.74      0.52      0.61        50\n",
      "        low       0.73      0.67      0.70        64\n",
      "\n",
      "avg / total       0.71      0.70      0.69       203\n",
      "\n"
     ]
    },
    {
     "data": {
      "image/png": "[encoded data removed]",
      "text/plain": [
       "<matplotlib.figure.Figure at 0x14969fd30b8>"
      ]
     },
     "metadata": {},
     "output_type": "display_data"
    },
    {
     "name": "stdout",
     "output_type": "stream",
     "text": [
      "\n",
      "--------------------\n",
      "M3_C_nom\n",
      "--------------------\n",
      "\n",
      "Accuracy on train: 88.88%\n",
      "             precision    recall  f1-score   support\n",
      "\n",
      "    average       0.89      0.84      0.86       413\n",
      "       high       0.87      0.97      0.91       679\n",
      "        low       0.94      0.81      0.87       392\n",
      "\n",
      "avg / total       0.89      0.89      0.89      1484\n",
      "\n",
      "Accuracy on test: 64.53%\n",
      "             precision    recall  f1-score   support\n",
      "\n",
      "    average       0.59      0.46      0.51        57\n",
      "       high       0.63      0.87      0.73        86\n",
      "        low       0.75      0.50      0.60        60\n",
      "\n",
      "avg / total       0.65      0.65      0.63       203\n",
      "\n"
     ]
    },
    {
     "data": {
      "image/png": "[encoded data removed]",
      "text/plain": [
       "<matplotlib.figure.Figure at 0x1494a5daac8>"
      ]
     },
     "metadata": {},
     "output_type": "display_data"
    },
    {
     "name": "stdout",
     "output_type": "stream",
     "text": [
      "\n",
      "--------------------\n",
      "M4_E_nom\n",
      "--------------------\n",
      "\n",
      "Accuracy on train: 87.67%\n",
      "             precision    recall  f1-score   support\n",
      "\n",
      "    average       0.93      0.70      0.80       325\n",
      "       high       0.85      0.96      0.90       788\n",
      "        low       0.91      0.86      0.88       371\n",
      "\n",
      "avg / total       0.88      0.88      0.87      1484\n",
      "\n",
      "Accuracy on test: 70.94%\n",
      "             precision    recall  f1-score   support\n",
      "\n",
      "    average       0.40      0.22      0.29        36\n",
      "       high       0.75      0.92      0.83       118\n",
      "        low       0.73      0.55      0.63        49\n",
      "\n",
      "avg / total       0.68      0.71      0.68       203\n",
      "\n"
     ]
    },
    {
     "data": {
      "image/png": "[encoded data removed]",
      "text/plain": [
       "<matplotlib.figure.Figure at 0x1494efd0fd0>"
      ]
     },
     "metadata": {},
     "output_type": "display_data"
    },
    {
     "name": "stdout",
     "output_type": "stream",
     "text": [
      "\n",
      "--------------------\n",
      "M5_O_nom\n",
      "--------------------\n",
      "\n",
      "Accuracy on train: 85.58%\n",
      "             precision    recall  f1-score   support\n",
      "\n",
      "    average       0.94      0.52      0.67       258\n",
      "       high       0.80      0.97      0.88       709\n",
      "        low       0.92      0.87      0.90       517\n",
      "\n",
      "avg / total       0.87      0.86      0.85      1484\n",
      "\n",
      "Accuracy on test: 67.98%\n",
      "             precision    recall  f1-score   support\n",
      "\n",
      "    average       0.71      0.12      0.21        40\n",
      "       high       0.60      0.92      0.73        91\n",
      "        low       0.86      0.68      0.76        72\n",
      "\n",
      "avg / total       0.72      0.68      0.64       203\n",
      "\n"
     ]
    },
    {
     "data": {
      "image/png": "[encoded data removed]",
      "text/plain": [
       "<matplotlib.figure.Figure at 0x14934c91c50>"
      ]
     },
     "metadata": {},
     "output_type": "display_data"
    },
    {
     "name": "stdout",
     "output_type": "stream",
     "text": [
      "\n",
      "--------------------\n",
      "M6_H_nom\n",
      "--------------------\n",
      "\n",
      "Accuracy on train: 83.36%\n",
      "             precision    recall  f1-score   support\n",
      "\n",
      "    average       0.81      0.99      0.89       966\n",
      "       high       0.93      0.46      0.62       218\n",
      "        low       0.93      0.59      0.73       300\n",
      "\n",
      "avg / total       0.85      0.83      0.82      1484\n",
      "\n",
      "Accuracy on test: 67.00%\n",
      "             precision    recall  f1-score   support\n",
      "\n",
      "    average       0.67      0.96      0.79       129\n",
      "       high       0.67      0.07      0.12        30\n",
      "        low       0.62      0.23      0.33        44\n",
      "\n",
      "avg / total       0.66      0.67      0.59       203\n",
      "\n"
     ]
    },
    {
     "data": {
      "image/png": "[encoded data removed]",
      "text/plain": [
       "<matplotlib.figure.Figure at 0x1494a534710>"
      ]
     },
     "metadata": {},
     "output_type": "display_data"
    },
    {
     "name": "stdout",
     "output_type": "stream",
     "text": [
      "\n",
      "--------------------\n",
      "Mean quality\n",
      "--------------------\n",
      "Mean Accuracy on train: 0.875\n",
      "Mean Accuracy on test: 0.675\n"
     ]
    }
   ],
   "source": [
    "trm_logreg.summary(correlations = 0.1, vec_tokens=12, all_traits=True, clr=True, confusion=True)"
   ]
  },
  {
   "cell_type": "code",
   "execution_count": 448,
   "metadata": {},
   "outputs": [],
   "source": [
    "trm_rfr = TraitModel(xname = 'text',\n",
    "                 traits = trait_names,\n",
    "                 word_vectorizer = TfidfVectorizer(ngram_range=(1, 3), \n",
    "                     analyzer='word', \n",
    "                     tokenizer=word_tokenize, \n",
    "                     min_df = 30, \n",
    "                     max_df = 0.7, \n",
    "                     max_features = 10000),\n",
    "                 pos_vectorizer = TfidfVectorizer(ngram_range=(2, 4), \n",
    "                     analyzer='word',  \n",
    "                     min_df = 50, \n",
    "                     max_df = 0.5, \n",
    "                     max_features = 5000),\n",
    "                 library = lib,\n",
    "                 test_size = 0.12,\n",
    "                 morph = pymorphy2.MorphAnalyzer(),\n",
    "                 classifier = RandomForestRegressor,\n",
    "                 classifier_params = {'n_estimators':200, \n",
    "                                      'max_features':'log2', \n",
    "                                      'min_samples_leaf':5, \n",
    "                                      'oob_score': True,},\n",
    "                 curves_params = {'steep':1.5, 'ec50':0.5, 'level':'max', 'adb':False}\n",
    "                )"
   ]
  },
  {
   "cell_type": "code",
   "execution_count": 449,
   "metadata": {},
   "outputs": [
    {
     "name": "stdout",
     "output_type": "stream",
     "text": [
      "Wall time: 1min 20s\n"
     ]
    }
   ],
   "source": [
    "%%time\n",
    "trm_rfr.fit(data_, mtype='c')"
   ]
  },
  {
   "cell_type": "code",
   "execution_count": 450,
   "metadata": {},
   "outputs": [
    {
     "name": "stdout",
     "output_type": "stream",
     "text": [
      "\n",
      "==================================================\n",
      "PREDICTION QUALITY\n",
      "==================================================\n",
      "\n",
      "--------------------\n",
      "M1_eX\n",
      "--------------------\n",
      "MAPE on train: 14.32%\n",
      "R2 on train: 0.524\n",
      "\n",
      "MAPE on test: 17.16%\n",
      "R2 on train: 0.237\n",
      "\n",
      "--------------------\n",
      "M2_A\n",
      "--------------------\n",
      "MAPE on train: 13.92%\n",
      "R2 on train: 0.550\n",
      "\n",
      "MAPE on test: 17.97%\n",
      "R2 on train: 0.264\n",
      "\n",
      "--------------------\n",
      "M3_C\n",
      "--------------------\n",
      "MAPE on train: 13.84%\n",
      "R2 on train: 0.525\n",
      "\n",
      "MAPE on test: 18.42%\n",
      "R2 on train: 0.222\n",
      "\n",
      "--------------------\n",
      "M4_E\n",
      "--------------------\n",
      "MAPE on train: 12.18%\n",
      "R2 on train: 0.540\n",
      "\n",
      "MAPE on test: 15.73%\n",
      "R2 on train: 0.239\n",
      "\n",
      "--------------------\n",
      "M5_O\n",
      "--------------------\n",
      "MAPE on train: 14.34%\n",
      "R2 on train: 0.512\n",
      "\n",
      "MAPE on test: 18.13%\n",
      "R2 on train: 0.150\n",
      "\n",
      "--------------------\n",
      "M6_H\n",
      "--------------------\n",
      "MAPE on train: 7.55%\n",
      "R2 on train: 0.466\n",
      "\n",
      "MAPE on test: 10.00%\n",
      "R2 on train: 0.117\n",
      "\n",
      "--------------------\n",
      "Mean quality\n",
      "--------------------\n",
      "Mean R2 on train: 0.519\n",
      "Mean R2 on test: 0.205\n"
     ]
    }
   ],
   "source": [
    "trm_rfr.summary(correlations = 0, vec_tokens=0)"
   ]
  },
  {
   "cell_type": "markdown",
   "metadata": {},
   "source": [
    "## NN Models"
   ]
  },
  {
   "cell_type": "code",
   "execution_count": 451,
   "metadata": {},
   "outputs": [],
   "source": [
    "n_features = X_train.shape[1]\n",
    "batch_size = 512\n",
    "\n",
    "nb_filter = 250\n",
    "filter_length = 3\n",
    "nb_epoch = 10"
   ]
  },
  {
   "cell_type": "code",
   "execution_count": 452,
   "metadata": {},
   "outputs": [
    {
     "name": "stdout",
     "output_type": "stream",
     "text": [
      "[[ 1.  0.  0.]\n",
      " [ 0.  1.  0.]\n",
      " [ 0.  0.  1.]\n",
      " ..., \n",
      " [ 0.  1.  0.]\n",
      " [ 0.  1.  0.]\n",
      " [ 0.  1.  0.]]\n"
     ]
    }
   ],
   "source": [
    "y_tr = train.loc[:,'M1_eX_nom']\n",
    "y_te = test.loc[:,'M1_eX_nom']\n",
    "labels = y_tr.unique()\n",
    "\n",
    "le = LabelEncoder()\n",
    "le.fit(labels)\n",
    "y_train = np_utils.to_categorical(le.transform(y_tr), 3)\n",
    "y_test = np_utils.to_categorical(le.transform(y_te), 3)\n",
    "y_true = le.transform(y_te)\n",
    "print(y_train)"
   ]
  },
  {
   "cell_type": "code",
   "execution_count": 456,
   "metadata": {},
   "outputs": [
    {
     "name": "stdout",
     "output_type": "stream",
     "text": [
      "Train on 1335 samples, validate on 149 samples\n",
      "Epoch 1/10\n",
      "0s - loss: 1.5887 - acc: 0.2966 - val_loss: 1.0979 - val_acc: 0.3356\n",
      "Epoch 2/10\n",
      "0s - loss: 1.3419 - acc: 0.3393 - val_loss: 1.1178 - val_acc: 0.4094\n",
      "Epoch 3/10\n",
      "0s - loss: 1.3561 - acc: 0.3431 - val_loss: 1.1132 - val_acc: 0.4027\n",
      "Epoch 4/10\n",
      "0s - loss: 1.3263 - acc: 0.3843 - val_loss: 1.1025 - val_acc: 0.4027\n",
      "Epoch 5/10\n",
      "0s - loss: 1.3035 - acc: 0.3850 - val_loss: 1.0782 - val_acc: 0.4027\n",
      "Epoch 6/10\n",
      "0s - loss: 1.2717 - acc: 0.3708 - val_loss: 1.0662 - val_acc: 0.3960\n",
      "Epoch 7/10\n",
      "0s - loss: 1.2906 - acc: 0.3648 - val_loss: 1.0551 - val_acc: 0.4362\n",
      "Epoch 8/10\n",
      "0s - loss: 1.3141 - acc: 0.3423 - val_loss: 1.0469 - val_acc: 0.4765\n",
      "Epoch 9/10\n",
      "0s - loss: 1.2990 - acc: 0.3498 - val_loss: 1.0475 - val_acc: 0.4094\n",
      "Epoch 10/10\n",
      "0s - loss: 1.2520 - acc: 0.3798 - val_loss: 1.0371 - val_acc: 0.4832\n"
     ]
    },
    {
     "data": {
      "text/plain": [
       "<keras.callbacks.History at 0x1495e593ef0>"
      ]
     },
     "execution_count": 456,
     "metadata": {},
     "output_type": "execute_result"
    }
   ],
   "source": [
    "model = Sequential()\n",
    "model.add(Dense(128, input_shape=(n_features,), activation = 'tanh'))\n",
    "model.add(Dropout(0.3))\n",
    "model.add(Dense(3, activation = 'softmax'))\n",
    "model.compile(loss='categorical_crossentropy', optimizer='adam', metrics=['accuracy'])\n",
    "model.fit(X_train, y_train, epochs=nb_epoch, batch_size=batch_size,  \n",
    "          validation_split=0.1, verbose=2)"
   ]
  },
  {
   "cell_type": "code",
   "execution_count": 457,
   "metadata": {},
   "outputs": [
    {
     "name": "stdout",
     "output_type": "stream",
     "text": [
      "_________________________________________________________________\n",
      "Layer (type)                 Output Shape              Param #   \n",
      "=================================================================\n",
      "dense_11 (Dense)             (None, 128)               559232    \n",
      "_________________________________________________________________\n",
      "dropout_6 (Dropout)          (None, 128)               0         \n",
      "_________________________________________________________________\n",
      "dense_12 (Dense)             (None, 3)                 387       \n",
      "=================================================================\n",
      "Total params: 559,619\n",
      "Trainable params: 559,619\n",
      "Non-trainable params: 0\n",
      "_________________________________________________________________\n"
     ]
    }
   ],
   "source": [
    "model.summary()"
   ]
  },
  {
   "cell_type": "code",
   "execution_count": 458,
   "metadata": {},
   "outputs": [
    {
     "name": "stdout",
     "output_type": "stream",
     "text": [
      "203/203 [==============================] - ETA:  - 0s     \n"
     ]
    },
    {
     "name": "stderr",
     "output_type": "stream",
     "text": [
      "c:\\users\\mytas\\appdata\\local\\programs\\python\\python36\\lib\\site-packages\\sklearn\\metrics\\classification.py:1135: UndefinedMetricWarning: Precision and F-score are ill-defined and being set to 0.0 in labels with no predicted samples.\n",
      "  'precision', 'predicted', average, warn_for)\n"
     ]
    },
    {
     "name": "stdout",
     "output_type": "stream",
     "text": [
      "             precision    recall  f1-score   support\n",
      "\n",
      "          0       0.00      0.00      0.00        66\n",
      "          1       0.51      0.65      0.57        65\n",
      "          2       0.46      0.76      0.57        72\n",
      "\n",
      "avg / total       0.32      0.48      0.38       203\n",
      "\n"
     ]
    }
   ],
   "source": [
    "y_pred = model.predict_classes(X_test)\n",
    "print(classification_report(y_true, y_pred))"
   ]
  },
  {
   "cell_type": "code",
   "execution_count": 459,
   "metadata": {},
   "outputs": [
    {
     "data": {
      "image/png": "[encoded data removed]",
      "text/plain": [
       "<matplotlib.figure.Figure at 0x14942badeb8>"
      ]
     },
     "metadata": {},
     "output_type": "display_data"
    }
   ],
   "source": [
    "y_true_ = le.inverse_transform(y_true)\n",
    "y_pred_ = le.inverse_transform(y_pred)\n",
    "sns.heatmap(data=confusion_matrix(y_true_, y_pred_, labels = labels), \n",
    "            annot=True, fmt=\"d\", cbar=False, \n",
    "            xticklabels=labels, yticklabels=labels, cmap='viridis')\n",
    "plt.title(\"Confusion matrix\")\n",
    "plt.show()"
   ]
  }
 ],
 "metadata": {
  "kernelspec": {
   "display_name": "Python 3",
   "language": "python",
   "name": "python3"
  },
  "language_info": {
   "codemirror_mode": {
    "name": "ipython",
    "version": 3
   },
   "file_extension": ".py",
   "mimetype": "text/x-python",
   "name": "python",
   "nbconvert_exporter": "python",
   "pygments_lexer": "ipython3",
   "version": "3.6.2"
  }
 },
 "nbformat": 4,
 "nbformat_minor": 2
}
