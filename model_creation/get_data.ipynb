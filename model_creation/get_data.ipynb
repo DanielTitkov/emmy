{
 "cells": [
  {
   "cell_type": "code",
   "execution_count": 1,
   "metadata": {},
   "outputs": [],
   "source": [
    "import sqlite3\n",
    "from tqdm import tqdm\n",
    "import vk\n",
    "import time\n",
    "import pandas as pd"
   ]
  },
  {
   "cell_type": "code",
   "execution_count": 2,
   "metadata": {},
   "outputs": [],
   "source": [
    "#open vk session\n",
    "with open('token') as f:\n",
    "    TOKEN = f.read()\n",
    "\n",
    "with open('uid') as f: \n",
    "    SELF_ID = f.read()\n",
    "    \n",
    "SLEEP_TIME = 0.3\n",
    "\n",
    "session = vk.Session(access_token=TOKEN)\n",
    "vkapi = vk.API(session)"
   ]
  },
  {
   "cell_type": "code",
   "execution_count": 5,
   "metadata": {},
   "outputs": [],
   "source": [
    "df = pd.read_csv('data/survey_data.csv', sep=';', decimal=',')\n",
    "users = list(df.id)"
   ]
  },
  {
   "cell_type": "code",
   "execution_count": 11,
   "metadata": {},
   "outputs": [],
   "source": [
    "#database\n",
    "conn = sqlite3.connect('ud.db')\n",
    "c = conn.cursor()\n",
    "\n",
    "c.execute('CREATE TABLE IF NOT EXISTS uids (uid STRING)');\n",
    "c.execute('CREATE TABLE IF NOT EXISTS posts (owner_id STRING, date STRING, text STRING)');"
   ]
  },
  {
   "cell_type": "code",
   "execution_count": 7,
   "metadata": {},
   "outputs": [],
   "source": [
    "#uids table\n",
    "c.executemany('INSERT INTO uids VALUES (?)', [(str(u),) for u in users])\n",
    "conn.commit()"
   ]
  },
  {
   "cell_type": "code",
   "execution_count": 8,
   "metadata": {},
   "outputs": [
    {
     "name": "stderr",
     "output_type": "stream",
     "text": [
      "Downloading posts: 100%|█████████████████████████████████████████████████████████████| 152/152 [15:52<00:00,  6.27s/it]\n"
     ]
    },
    {
     "name": "stdout",
     "output_type": "stream",
     "text": [
      "1 пользователей потеряно\n",
      "Wall time: 15min 52s\n"
     ]
    }
   ],
   "source": [
    "%%time\n",
    "def get_post_count(uid):\n",
    "    posts = vkapi('wall.get', owner_id=uid, count=1, filter='owner', v=5.73)\n",
    "    return posts['count']\n",
    "\n",
    "drop = 0\n",
    "for user in tqdm(users, desc='Downloading posts'):\n",
    "    try:\n",
    "        current_post_count = get_post_count(user)\n",
    "        time.sleep(SLEEP_TIME)\n",
    "        if (current_post_count > 10000) or (current_post_count < 50):\n",
    "            continue\n",
    "        current_posts = []\n",
    "        resid = current_post_count\n",
    "        offset = 0\n",
    "        while resid > 0:\n",
    "            response = vkapi('wall.get', owner_id=user, count=100, filter='owner', \n",
    "                             offset=offset, v=5.73)['items']\n",
    "            time.sleep(SLEEP_TIME)\n",
    "            current_posts += response\n",
    "            resid -= 100\n",
    "            offset += 100\n",
    "            chunk = []\n",
    "            for p in current_posts:\n",
    "                if type(p) == dict:\n",
    "                    chunk.append((p['owner_id'], p['date'], p['text']))\n",
    "            c.executemany('INSERT INTO posts VALUES (?,?,?)', chunk)\n",
    "            conn.commit()\n",
    "    except:\n",
    "        drop += 1\n",
    "        continue\n",
    "print(drop, 'пользователей потеряно')"
   ]
  },
  {
   "cell_type": "code",
   "execution_count": 12,
   "metadata": {},
   "outputs": [],
   "source": [
    "c.close()\n",
    "conn.close()"
   ]
  }
 ],
 "metadata": {
  "kernelspec": {
   "display_name": "Python 3",
   "language": "python",
   "name": "python3"
  },
  "language_info": {
   "codemirror_mode": {
    "name": "ipython",
    "version": 3
   },
   "file_extension": ".py",
   "mimetype": "text/x-python",
   "name": "python",
   "nbconvert_exporter": "python",
   "pygments_lexer": "ipython3",
   "version": "3.6.2"
  }
 },
 "nbformat": 4,
 "nbformat_minor": 2
}
